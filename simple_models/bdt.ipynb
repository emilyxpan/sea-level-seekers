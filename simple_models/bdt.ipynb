{
 "cells": [
  {
   "cell_type": "code",
   "execution_count": 1,
   "id": "138e6913-b4f0-494c-a8ed-631325293128",
   "metadata": {},
   "outputs": [
    {
     "name": "stdout",
     "output_type": "stream",
     "text": [
      "Requirement already satisfied: netCDF4 in /opt/conda/lib/python3.11/site-packages (1.7.2)\n",
      "Requirement already satisfied: cftime in /opt/conda/lib/python3.11/site-packages (from netCDF4) (1.6.4.post1)\n",
      "Requirement already satisfied: certifi in /opt/conda/lib/python3.11/site-packages (from netCDF4) (2024.2.2)\n",
      "Requirement already satisfied: numpy in /opt/conda/lib/python3.11/site-packages (from netCDF4) (1.26.4)\n",
      "Requirement already satisfied: xgboost in /opt/conda/lib/python3.11/site-packages (2.1.3)\n",
      "Requirement already satisfied: numpy in /opt/conda/lib/python3.11/site-packages (from xgboost) (1.26.4)\n",
      "Requirement already satisfied: nvidia-nccl-cu12 in /opt/conda/lib/python3.11/site-packages (from xgboost) (2.20.5)\n",
      "Requirement already satisfied: scipy in /opt/conda/lib/python3.11/site-packages (from xgboost) (1.13.1)\n"
     ]
    }
   ],
   "source": [
    "!pip install netCDF4\n",
    "!pip install xgboost\n",
    "import netCDF4\n",
    "import os\n",
    "import numpy as np\n",
    "import pandas as pd\n",
    "import matplotlib.pyplot as plt\n",
    "from pathlib import Path\n",
    "import re\n",
    "\n",
    "import xgboost as xgb\n",
    "from sklearn.datasets import make_classification\n",
    "from sklearn.model_selection import train_test_split\n",
    "from sklearn.metrics import accuracy_score"
   ]
  },
  {
   "cell_type": "code",
   "execution_count": 2,
   "id": "3f19d210-718a-4b26-bafb-dab5e10bfed0",
   "metadata": {},
   "outputs": [],
   "source": [
    "# Define the base directory\n",
    "sat_dir = os.path.expanduser('~/sea-level-seekers/iharp_training_dataset/Copernicus_ENA_Satelite_Maps_Training_Data')\n",
    "sat_names = os.listdir(sat_dir)\n",
    "flood_dir = os.path.expanduser('~/sea-level-seekers/iharp_training_dataset/Flooding_Data')\n",
    "flood_names = os.listdir(flood_dir)"
   ]
  },
  {
   "cell_type": "code",
   "execution_count": 3,
   "id": "aad2cec0-b33b-4d35-b089-a06c2e759bb9",
   "metadata": {},
   "outputs": [],
   "source": [
    "# Get a list of all file names with their full paths\n",
    "try:\n",
    "    sat_names = [os.path.join(sat_dir, f) for f in os.listdir(sat_dir)]\n",
    "    flood_names = [os.path.join(flood_dir, f) for f in os.listdir(flood_dir) if f.endswith('.csv')]\n",
    "except FileNotFoundError:\n",
    "    print(f\"Directory not found\")\n"
   ]
  },
  {
   "cell_type": "code",
   "execution_count": 4,
   "id": "b45eb56c-19fa-4fcb-834b-cfeae2f6c782",
   "metadata": {},
   "outputs": [],
   "source": [
    "dataset = netCDF4.Dataset(sat_names[0], mode=\"r\")"
   ]
  },
  {
   "cell_type": "code",
   "execution_count": 5,
   "id": "5cf35498-d63e-4a05-a9e2-fe80fc8a8084",
   "metadata": {
    "scrolled": true
   },
   "outputs": [
    {
     "name": "stdout",
     "output_type": "stream",
     "text": [
      "<class 'netCDF4.Dataset'>\n",
      "root group (NETCDF4 data model, file format HDF5):\n",
      "    Conventions: CF-1.6\n",
      "    Metadata_Conventions: Unidata Dataset Discovery v1.0\n",
      "    cdm_data_type: Grid\n",
      "    comment: Sea Surface Height measured by Altimetry and derived variables\n",
      "    contact: http://climate.copernicus.eu/c3s-user-service-desk\n",
      "    creator_email: http://climate.copernicus.eu/c3s-user-service-desk\n",
      "    creator_name: Copernicus Climate Change Service (C3S)\n",
      "    creator_url: http://climate.copernicus.eu\n",
      "    date_created: 2021-07-09T08:53:57Z\n",
      "    date_issued: 2021-07-09T08:53:57Z\n",
      "    date_modified: 2021-07-09T08:53:57Z\n",
      "    geospatial_lat_max: 89.875\n",
      "    geospatial_lat_min: -89.875\n",
      "    geospatial_lat_resolution: 0.25\n",
      "    geospatial_lat_units: degrees_north\n",
      "    geospatial_lon_max: 179.875\n",
      "    geospatial_lon_min: -179.875\n",
      "    geospatial_lon_resolution: 0.25\n",
      "    geospatial_lon_units: degrees_east\n",
      "    geospatial_vertical_max: 0.0\n",
      "    geospatial_vertical_min: 0.0\n",
      "    geospatial_vertical_positive: down\n",
      "    geospatial_vertical_resolution: point\n",
      "    geospatial_vertical_units: m\n",
      "    history: 2021-07-09 08:53:58Z: Creation\n",
      "    institution: CLS, CNES\n",
      "    keywords: Oceans > Ocean Topography > Sea Surface Height\n",
      "    keywords_vocabulary: NetCDF COARDS Climate and Forecast Standard Names\n",
      "    license: http://climate.copernicus.eu/c3s-user-service-desk\n",
      "    platform: ERS-1, Topex/Poseidon,\n",
      "    processing_level: L4\n",
      "    product_version: vDec2021\n",
      "    project: Copernicus Climate Change Service (C3S)\n",
      "    references: http://climate.copernicus.eu\n",
      "    software_version: 7.0_DUACS_DT2021_baseline\n",
      "    source: Altimetry measurements\n",
      "    ssalto_duacs_comment: The reference mission used for the altimeter inter-calibration processing is Topex/Poseidon between 1993-01-01 and 2002-04-23, Jason-1 between 2002-04-24 and 2008-10-18, OSTM/Jason-2 between 2008-10-19 and 2016-06-25, Jason-3 since 2016-06-25.\n",
      "    standard_name_vocabulary: NetCDF Climate and Forecast (CF) Metadata Convention Standard Name Table v37\n",
      "    summary: SSALTO/DUACS Delayed-Time Level-4 sea surface height and derived variables measured by multi-satellite altimetry observations over Global Ocean.\n",
      "    time_coverage_duration: P1D\n",
      "    time_coverage_end: 1993-01-01T12:00:00Z\n",
      "    time_coverage_resolution: P1D\n",
      "    time_coverage_start: 1992-12-31T12:00:00Z\n",
      "    title: DT merged two satellites Global Ocean Gridded SSALTO/DUACS Sea Surface Height L4 product and derived variables\n",
      "    dimensions(sizes): time(1), latitude(100), nv(2), longitude(160)\n",
      "    variables(dimensions): int32 crs(), float32 time(time), float32 latitude(latitude), float32 lat_bnds(latitude, nv), float32 longitude(longitude), float32 lon_bnds(longitude, nv), int32 nv(nv), int32 sla(time, latitude, longitude), int32 err_sla(time, latitude, longitude), int32 ugosa(time, latitude, longitude), int32 err_ugosa(time, latitude, longitude), int32 vgosa(time, latitude, longitude), int32 err_vgosa(time, latitude, longitude), int32 adt(time, latitude, longitude), int32 ugos(time, latitude, longitude), int32 vgos(time, latitude, longitude), int32 tpa_correction(time), int32 flag_ice(time, latitude, longitude)\n",
      "    groups: \n"
     ]
    }
   ],
   "source": [
    "print(dataset)"
   ]
  },
  {
   "cell_type": "code",
   "execution_count": 6,
   "id": "a50c8bce-a819-4ee9-b8ea-73d1228d4b79",
   "metadata": {},
   "outputs": [],
   "source": [
    "sla = dataset.variables[\"sla\"][0]\n",
    "\n",
    "# Extract the latitude and longitude\n",
    "latitude = dataset.variables[\"latitude\"][:]\n",
    "longitude = dataset.variables[\"longitude\"][:]"
   ]
  },
  {
   "cell_type": "code",
   "execution_count": 7,
   "id": "1af95a22-8c19-459c-aee1-00be1b212cb9",
   "metadata": {},
   "outputs": [
    {
     "name": "stdout",
     "output_type": "stream",
     "text": [
      "(100,)\n"
     ]
    }
   ],
   "source": [
    "print(np.shape(dataset.variables[\"latitude\"][:]))"
   ]
  },
  {
   "cell_type": "code",
   "execution_count": 8,
   "id": "6483a75b-9e94-4c9f-864a-dc50cfbb7e45",
   "metadata": {},
   "outputs": [],
   "source": [
    "def date_extractor(filename):\n",
    "    file_name = filename\n",
    "    \n",
    "    # Regular expression to extract the date\n",
    "    match = re.search(r'dt_ena_(\\d+)_vDT', file_name)\n",
    "    date_str = match.group(1)  # '19930101'\n",
    "    \n",
    "    # Format the date as 'YYYY-MM-DD'\n",
    "    formatted_date = f\"{date_str[:4]}-{date_str[4:6]}-{date_str[6:]}\"\n",
    "    \n",
    "    return formatted_date"
   ]
  },
  {
   "cell_type": "code",
   "execution_count": 9,
   "id": "1ccb4800-2d07-4430-8f72-58967b195858",
   "metadata": {},
   "outputs": [],
   "source": [
    "dataset.close()"
   ]
  },
  {
   "cell_type": "code",
   "execution_count": 10,
   "id": "8d0d4c66-6cb1-4976-960a-df898cf6e37c",
   "metadata": {},
   "outputs": [
    {
     "data": {
      "image/png": "[encoded data removed]",
      "text/plain": [
       "<Figure size 1000x600 with 2 Axes>"
      ]
     },
     "metadata": {},
     "output_type": "display_data"
    }
   ],
   "source": [
    "# Create a meshgrid for plotting\n",
    "lon, lat = np.meshgrid(longitude, latitude)\n",
    "\n",
    "# Plot the 'sla' variable\n",
    "plt.figure(figsize=(10, 6))\n",
    "plt.contourf(lon, lat, sla, cmap=\"bwr\")\n",
    "plt.colorbar(label=\"Sea Level Anomaly (m)\")\n",
    "plt.xlabel(\"Longitude\")\n",
    "plt.ylabel(\"Latitude\")\n",
    "plt.title(\"Sea Level Anomaly on \" + date_extractor(sat_names[0]))\n",
    "plt.show()"
   ]
  },
  {
   "cell_type": "code",
   "execution_count": 11,
   "id": "f3f8037c-314d-4849-bdee-485d55c95417",
   "metadata": {},
   "outputs": [
    {
     "name": "stdout",
     "output_type": "stream",
     "text": [
      "Requirement already satisfied: tqdm in /opt/conda/lib/python3.11/site-packages (4.66.4)\n"
     ]
    }
   ],
   "source": [
    "!pip install tqdm"
   ]
  },
  {
   "cell_type": "code",
   "execution_count": 25,
   "id": "e7b5db93-9b28-4738-85af-f1f6e449137b",
   "metadata": {},
   "outputs": [
    {
     "name": "stderr",
     "output_type": "stream",
     "text": [
      "Processing SLA data: 100%|██████████| 7302/7302 [06:09<00:00, 19.75it/s]"
     ]
    },
    {
     "name": "stdout",
     "output_type": "stream",
     "text": [
      "(7302, 4, 100, 160)\n"
     ]
    },
    {
     "name": "stderr",
     "output_type": "stream",
     "text": [
      "\n"
     ]
    }
   ],
   "source": [
    "import numpy as np\n",
    "import netCDF4\n",
    "from tqdm import tqdm  # Import tqdm for the progress bar\n",
    "\n",
    "# Assuming sat_names is a list of file paths and the number of files is known\n",
    "num_files = len(sat_names)\n",
    "sla_shape = (4, 100, 160)  # Shape of the SLA data per file\n",
    "sla_data = np.empty((num_files, *sla_shape))  # Preallocate memory for SLA data\n",
    "sla_dates = []  # Initialize a list for dates\n",
    "\n",
    "# Use tqdm to wrap the loop for a progress bar\n",
    "for i, file_path in enumerate(tqdm(sat_names, desc=\"Processing SLA data\")):\n",
    "    with netCDF4.Dataset(file_path, mode=\"r\") as dataset:\n",
    "        time_array = np.array([100, 160])\n",
    "        sla_data[i][0] = time_array.fill(dataset.variables[\"time\"][0])\n",
    "        sla_data[i][1] = dataset.variables[\"sla\"][0]  # Read and store the first SLA data slice\n",
    "        sla_data[i][2] = dataset.variables[\"ugosa\"][0]\n",
    "        sla_data[i][3] = dataset.variables[\"vgosa\"][0]\n",
    "        sla_dates.append(date_extractor(file_path))  # Extract and store the date\n",
    "\n",
    "print(sla_data.shape)"
   ]
  },
  {
   "cell_type": "code",
   "execution_count": 26,
   "id": "8aed411a-8ea4-4f54-b7e7-e1cd62af0dcf",
   "metadata": {},
   "outputs": [
    {
     "ename": "OSError",
     "evalue": "Not enough free space to write 3738624000 bytes",
     "output_type": "error",
     "traceback": [
      "\u001b[0;31m---------------------------------------------------------------------------\u001b[0m",
      "\u001b[0;31mOSError\u001b[0m                                   Traceback (most recent call last)",
      "Cell \u001b[0;32mIn[26], line 1\u001b[0m\n\u001b[0;32m----> 1\u001b[0m \u001b[43mnp\u001b[49m\u001b[38;5;241;43m.\u001b[39;49m\u001b[43msave\u001b[49m\u001b[43m(\u001b[49m\u001b[38;5;124;43m'\u001b[39;49m\u001b[38;5;124;43mX.npy\u001b[39;49m\u001b[38;5;124;43m'\u001b[39;49m\u001b[43m,\u001b[49m\u001b[43m \u001b[49m\u001b[43msla_data\u001b[49m\u001b[43m)\u001b[49m\n",
      "File \u001b[0;32m/opt/conda/lib/python3.11/site-packages/numpy/lib/npyio.py:546\u001b[0m, in \u001b[0;36msave\u001b[0;34m(file, arr, allow_pickle, fix_imports)\u001b[0m\n\u001b[1;32m    544\u001b[0m \u001b[38;5;28;01mwith\u001b[39;00m file_ctx \u001b[38;5;28;01mas\u001b[39;00m fid:\n\u001b[1;32m    545\u001b[0m     arr \u001b[38;5;241m=\u001b[39m np\u001b[38;5;241m.\u001b[39masanyarray(arr)\n\u001b[0;32m--> 546\u001b[0m     \u001b[38;5;28;43mformat\u001b[39;49m\u001b[38;5;241;43m.\u001b[39;49m\u001b[43mwrite_array\u001b[49m\u001b[43m(\u001b[49m\u001b[43mfid\u001b[49m\u001b[43m,\u001b[49m\u001b[43m \u001b[49m\u001b[43marr\u001b[49m\u001b[43m,\u001b[49m\u001b[43m \u001b[49m\u001b[43mallow_pickle\u001b[49m\u001b[38;5;241;43m=\u001b[39;49m\u001b[43mallow_pickle\u001b[49m\u001b[43m,\u001b[49m\n\u001b[1;32m    547\u001b[0m \u001b[43m                       \u001b[49m\u001b[43mpickle_kwargs\u001b[49m\u001b[38;5;241;43m=\u001b[39;49m\u001b[38;5;28;43mdict\u001b[39;49m\u001b[43m(\u001b[49m\u001b[43mfix_imports\u001b[49m\u001b[38;5;241;43m=\u001b[39;49m\u001b[43mfix_imports\u001b[49m\u001b[43m)\u001b[49m\u001b[43m)\u001b[49m\n",
      "File \u001b[0;32m/opt/conda/lib/python3.11/site-packages/numpy/lib/format.py:730\u001b[0m, in \u001b[0;36mwrite_array\u001b[0;34m(fp, array, version, allow_pickle, pickle_kwargs)\u001b[0m\n\u001b[1;32m    728\u001b[0m \u001b[38;5;28;01melse\u001b[39;00m:\n\u001b[1;32m    729\u001b[0m     \u001b[38;5;28;01mif\u001b[39;00m isfileobj(fp):\n\u001b[0;32m--> 730\u001b[0m         \u001b[43marray\u001b[49m\u001b[38;5;241;43m.\u001b[39;49m\u001b[43mtofile\u001b[49m\u001b[43m(\u001b[49m\u001b[43mfp\u001b[49m\u001b[43m)\u001b[49m\n\u001b[1;32m    731\u001b[0m     \u001b[38;5;28;01melse\u001b[39;00m:\n\u001b[1;32m    732\u001b[0m         \u001b[38;5;28;01mfor\u001b[39;00m chunk \u001b[38;5;129;01min\u001b[39;00m numpy\u001b[38;5;241m.\u001b[39mnditer(\n\u001b[1;32m    733\u001b[0m                 array, flags\u001b[38;5;241m=\u001b[39m[\u001b[38;5;124m'\u001b[39m\u001b[38;5;124mexternal_loop\u001b[39m\u001b[38;5;124m'\u001b[39m, \u001b[38;5;124m'\u001b[39m\u001b[38;5;124mbuffered\u001b[39m\u001b[38;5;124m'\u001b[39m, \u001b[38;5;124m'\u001b[39m\u001b[38;5;124mzerosize_ok\u001b[39m\u001b[38;5;124m'\u001b[39m],\n\u001b[1;32m    734\u001b[0m                 buffersize\u001b[38;5;241m=\u001b[39mbuffersize, order\u001b[38;5;241m=\u001b[39m\u001b[38;5;124m'\u001b[39m\u001b[38;5;124mC\u001b[39m\u001b[38;5;124m'\u001b[39m):\n",
      "\u001b[0;31mOSError\u001b[0m: Not enough free space to write 3738624000 bytes"
     ]
    }
   ],
   "source": [
    "np.save('X.npy', sla_data)"
   ]
  },
  {
   "cell_type": "code",
   "execution_count": 20,
   "id": "e379cf05-ecb2-47e7-b816-51f5b70defe1",
   "metadata": {},
   "outputs": [
    {
     "name": "stdout",
     "output_type": "stream",
     "text": [
      "(1000, 12)\n"
     ]
    }
   ],
   "source": [
    "flood_data = []\n",
    "flood_dates = []\n",
    "\n",
    "for f in flood_names:\n",
    "    df = pd.read_csv(f)\n",
    "    flood_data.append(df['anomaly'][:1000].values)\n",
    "    flood_dates.append(df['t'][:1000].values)\n",
    "\n",
    "flood_data = np.array(flood_data).T\n",
    "print(np.shape(flood_data))"
   ]
  },
  {
   "cell_type": "code",
   "execution_count": 21,
   "id": "3961828f-5b88-4396-bc49-1a1b796eb2eb",
   "metadata": {},
   "outputs": [],
   "source": [
    "select_feature_names = ['time', 'sla', 'ugosa', 'vgosa']"
   ]
  },
  {
   "cell_type": "code",
   "execution_count": 22,
   "id": "2c3426fa-cbf3-41c0-b6ef-def1dae0ac85",
   "metadata": {},
   "outputs": [],
   "source": [
    "import xgboost as xgb\n",
    "from sklearn.model_selection import train_test_split, GridSearchCV\n",
    "from sklearn.metrics import confusion_matrix, ConfusionMatrixDisplay, classification_report\n",
    "from sklearn.metrics import balanced_accuracy_score, accuracy_score, precision_score, recall_score, f1_score\n",
    "from sklearn.utils.class_weight import compute_sample_weight\n",
    "from xgboost import XGBClassifier\n",
    "from sklearn.multioutput import MultiOutputClassifier"
   ]
  },
  {
   "cell_type": "code",
   "execution_count": 23,
   "id": "e7b5f3fb-e8ed-4d35-8911-f5017d11cf54",
   "metadata": {},
   "outputs": [],
   "source": [
    "X = np.load('X.npy')\n",
    "y = flood_data\n",
    "\n",
    "X_train, X_test, y_train, y_test = train_test_split(X, y, test_size = 0.2)"
   ]
  },
  {
   "cell_type": "code",
   "execution_count": 24,
   "id": "9b875e9f-c367-4551-ab06-c9f87f3fe083",
   "metadata": {},
   "outputs": [
    {
     "name": "stdout",
     "output_type": "stream",
     "text": [
      "[20.62162162162162, 199.0, 159.0, 46.05882352941177, 199.0, inf, 799.0, 56.142857142857146, 60.53846153846154, 18.51219512195122, 39.0, 79.0]\n"
     ]
    },
    {
     "name": "stderr",
     "output_type": "stream",
     "text": [
      "/tmp/ipykernel_650/2273377537.py:5: RuntimeWarning: divide by zero encountered in scalar divide\n",
      "  scale_pos_weight.append(n_bkg/n_sig)\n"
     ]
    }
   ],
   "source": [
    "scale_pos_weight = []\n",
    "for i in range(12):\n",
    "    n_bkg = np.sum(y_train[:, i] == 0)\n",
    "    n_sig = np.sum(y_train[:, i] == 1)\n",
    "    scale_pos_weight.append(n_bkg/n_sig)\n",
    "\n",
    "print(scale_pos_weight)"
   ]
  },
  {
   "cell_type": "code",
   "execution_count": 32,
   "id": "6976d4b5-84ef-4b37-a26d-2f661e9f8e00",
   "metadata": {},
   "outputs": [],
   "source": [
    "X = np.load('X.npy')"
   ]
  },
  {
   "cell_type": "code",
   "execution_count": 33,
   "id": "55913441-423e-4730-ae7f-562aad3c959e",
   "metadata": {},
   "outputs": [
    {
     "name": "stdout",
     "output_type": "stream",
     "text": [
      "(7302, 16000)\n"
     ]
    }
   ],
   "source": [
    "print(X.shape)"
   ]
  },
  {
   "cell_type": "code",
   "execution_count": 25,
   "id": "b2d80d90-e3f0-4328-b2ed-497b14e9b2f8",
   "metadata": {},
   "outputs": [
    {
     "ename": "XGBoostError",
     "evalue": "[19:29:40] /workspace/src/objective/regression_obj.cu:50: Check failed: info.labels.Size() == preds.Size() (5841 vs. 70092) : Invalid shape of labels.\nStack trace:\n  [bt] (0) /opt/conda/lib/python3.11/site-packages/xgboost/lib/libxgboost.so(+0x22dcbc) [0x7f64a462dcbc]\n  [bt] (1) /opt/conda/lib/python3.11/site-packages/xgboost/lib/libxgboost.so(+0xc30292) [0x7f64a5030292]\n  [bt] (2) /opt/conda/lib/python3.11/site-packages/xgboost/lib/libxgboost.so(+0xc76a3f) [0x7f64a5076a3f]\n  [bt] (3) /opt/conda/lib/python3.11/site-packages/xgboost/lib/libxgboost.so(+0x5cb173) [0x7f64a49cb173]\n  [bt] (4) /opt/conda/lib/python3.11/site-packages/xgboost/lib/libxgboost.so(XGBoosterUpdateOneIter+0x6f) [0x7f64a453752f]\n  [bt] (5) /opt/conda/lib/python3.11/lib-dynload/../../libffi.so.8(+0x6a4a) [0x7f650e8d3a4a]\n  [bt] (6) /opt/conda/lib/python3.11/lib-dynload/../../libffi.so.8(+0x5fea) [0x7f650e8d2fea]\n  [bt] (7) /opt/conda/lib/python3.11/lib-dynload/_ctypes.cpython-311-x86_64-linux-gnu.so(+0x12545) [0x7f650e8eb545]\n  [bt] (8) /opt/conda/lib/python3.11/lib-dynload/_ctypes.cpython-311-x86_64-linux-gnu.so(+0x887a) [0x7f650e8e187a]\n\n",
     "output_type": "error",
     "traceback": [
      "\u001b[0;31m---------------------------------------------------------------------------\u001b[0m",
      "\u001b[0;31mXGBoostError\u001b[0m                              Traceback (most recent call last)",
      "Cell \u001b[0;32mIn[25], line 11\u001b[0m\n\u001b[1;32m      8\u001b[0m multi_output_xgb \u001b[38;5;241m=\u001b[39m MultiOutputClassifier(xgb_clf)\n\u001b[1;32m     10\u001b[0m \u001b[38;5;66;03m# Fit the model first\u001b[39;00m\n\u001b[0;32m---> 11\u001b[0m \u001b[43mmulti_output_xgb\u001b[49m\u001b[38;5;241;43m.\u001b[39;49m\u001b[43mfit\u001b[49m\u001b[43m(\u001b[49m\u001b[43mX_train\u001b[49m\u001b[43m,\u001b[49m\u001b[43m \u001b[49m\u001b[43my_train\u001b[49m\u001b[43m,\u001b[49m\u001b[43m \u001b[49m\u001b[43meval_set\u001b[49m\u001b[38;5;241;43m=\u001b[39;49m\u001b[43m[\u001b[49m\u001b[43m(\u001b[49m\u001b[43mX_train\u001b[49m\u001b[43m,\u001b[49m\u001b[43m \u001b[49m\u001b[43my_train\u001b[49m\u001b[43m)\u001b[49m\u001b[43m,\u001b[49m\u001b[43m \u001b[49m\u001b[43m(\u001b[49m\u001b[43mX_test\u001b[49m\u001b[43m,\u001b[49m\u001b[43m \u001b[49m\u001b[43my_test\u001b[49m\u001b[43m)\u001b[49m\u001b[43m]\u001b[49m\u001b[43m,\u001b[49m\u001b[43m \u001b[49m\u001b[43mverbose\u001b[49m\u001b[38;5;241;43m=\u001b[39;49m\u001b[38;5;28;43;01mTrue\u001b[39;49;00m\u001b[43m)\u001b[49m\n\u001b[1;32m     13\u001b[0m \u001b[38;5;66;03m# Now, modify scale_pos_weight for each classifier in estimators_\u001b[39;00m\n\u001b[1;32m     14\u001b[0m \u001b[38;5;28;01mfor\u001b[39;00m i, clf \u001b[38;5;129;01min\u001b[39;00m \u001b[38;5;28menumerate\u001b[39m(multi_output_xgb\u001b[38;5;241m.\u001b[39mestimators_):\n",
      "File \u001b[0;32m/opt/conda/lib/python3.11/site-packages/sklearn/multioutput.py:544\u001b[0m, in \u001b[0;36mMultiOutputClassifier.fit\u001b[0;34m(self, X, Y, sample_weight, **fit_params)\u001b[0m\n\u001b[1;32m    518\u001b[0m \u001b[38;5;28;01mdef\u001b[39;00m \u001b[38;5;21mfit\u001b[39m(\u001b[38;5;28mself\u001b[39m, X, Y, sample_weight\u001b[38;5;241m=\u001b[39m\u001b[38;5;28;01mNone\u001b[39;00m, \u001b[38;5;241m*\u001b[39m\u001b[38;5;241m*\u001b[39mfit_params):\n\u001b[1;32m    519\u001b[0m \u001b[38;5;250m    \u001b[39m\u001b[38;5;124;03m\"\"\"Fit the model to data matrix X and targets Y.\u001b[39;00m\n\u001b[1;32m    520\u001b[0m \n\u001b[1;32m    521\u001b[0m \u001b[38;5;124;03m    Parameters\u001b[39;00m\n\u001b[0;32m   (...)\u001b[0m\n\u001b[1;32m    542\u001b[0m \u001b[38;5;124;03m        Returns a fitted instance.\u001b[39;00m\n\u001b[1;32m    543\u001b[0m \u001b[38;5;124;03m    \"\"\"\u001b[39;00m\n\u001b[0;32m--> 544\u001b[0m     \u001b[38;5;28;43msuper\u001b[39;49m\u001b[43m(\u001b[49m\u001b[43m)\u001b[49m\u001b[38;5;241;43m.\u001b[39;49m\u001b[43mfit\u001b[49m\u001b[43m(\u001b[49m\u001b[43mX\u001b[49m\u001b[43m,\u001b[49m\u001b[43m \u001b[49m\u001b[43mY\u001b[49m\u001b[43m,\u001b[49m\u001b[43m \u001b[49m\u001b[43msample_weight\u001b[49m\u001b[38;5;241;43m=\u001b[39;49m\u001b[43msample_weight\u001b[49m\u001b[43m,\u001b[49m\u001b[43m \u001b[49m\u001b[38;5;241;43m*\u001b[39;49m\u001b[38;5;241;43m*\u001b[39;49m\u001b[43mfit_params\u001b[49m\u001b[43m)\u001b[49m\n\u001b[1;32m    545\u001b[0m     \u001b[38;5;28mself\u001b[39m\u001b[38;5;241m.\u001b[39mclasses_ \u001b[38;5;241m=\u001b[39m [estimator\u001b[38;5;241m.\u001b[39mclasses_ \u001b[38;5;28;01mfor\u001b[39;00m estimator \u001b[38;5;129;01min\u001b[39;00m \u001b[38;5;28mself\u001b[39m\u001b[38;5;241m.\u001b[39mestimators_]\n\u001b[1;32m    546\u001b[0m     \u001b[38;5;28;01mreturn\u001b[39;00m \u001b[38;5;28mself\u001b[39m\n",
      "File \u001b[0;32m/opt/conda/lib/python3.11/site-packages/sklearn/base.py:1473\u001b[0m, in \u001b[0;36m_fit_context.<locals>.decorator.<locals>.wrapper\u001b[0;34m(estimator, *args, **kwargs)\u001b[0m\n\u001b[1;32m   1466\u001b[0m     estimator\u001b[38;5;241m.\u001b[39m_validate_params()\n\u001b[1;32m   1468\u001b[0m \u001b[38;5;28;01mwith\u001b[39;00m config_context(\n\u001b[1;32m   1469\u001b[0m     skip_parameter_validation\u001b[38;5;241m=\u001b[39m(\n\u001b[1;32m   1470\u001b[0m         prefer_skip_nested_validation \u001b[38;5;129;01mor\u001b[39;00m global_skip_validation\n\u001b[1;32m   1471\u001b[0m     )\n\u001b[1;32m   1472\u001b[0m ):\n\u001b[0;32m-> 1473\u001b[0m     \u001b[38;5;28;01mreturn\u001b[39;00m \u001b[43mfit_method\u001b[49m\u001b[43m(\u001b[49m\u001b[43mestimator\u001b[49m\u001b[43m,\u001b[49m\u001b[43m \u001b[49m\u001b[38;5;241;43m*\u001b[39;49m\u001b[43margs\u001b[49m\u001b[43m,\u001b[49m\u001b[43m \u001b[49m\u001b[38;5;241;43m*\u001b[39;49m\u001b[38;5;241;43m*\u001b[39;49m\u001b[43mkwargs\u001b[49m\u001b[43m)\u001b[49m\n",
      "File \u001b[0;32m/opt/conda/lib/python3.11/site-packages/sklearn/multioutput.py:279\u001b[0m, in \u001b[0;36m_MultiOutputEstimator.fit\u001b[0;34m(self, X, y, sample_weight, **fit_params)\u001b[0m\n\u001b[1;32m    276\u001b[0m     \u001b[38;5;28;01mif\u001b[39;00m sample_weight \u001b[38;5;129;01mis\u001b[39;00m \u001b[38;5;129;01mnot\u001b[39;00m \u001b[38;5;28;01mNone\u001b[39;00m:\n\u001b[1;32m    277\u001b[0m         routed_params\u001b[38;5;241m.\u001b[39mestimator\u001b[38;5;241m.\u001b[39mfit[\u001b[38;5;124m\"\u001b[39m\u001b[38;5;124msample_weight\u001b[39m\u001b[38;5;124m\"\u001b[39m] \u001b[38;5;241m=\u001b[39m sample_weight\n\u001b[0;32m--> 279\u001b[0m \u001b[38;5;28mself\u001b[39m\u001b[38;5;241m.\u001b[39mestimators_ \u001b[38;5;241m=\u001b[39m \u001b[43mParallel\u001b[49m\u001b[43m(\u001b[49m\u001b[43mn_jobs\u001b[49m\u001b[38;5;241;43m=\u001b[39;49m\u001b[38;5;28;43mself\u001b[39;49m\u001b[38;5;241;43m.\u001b[39;49m\u001b[43mn_jobs\u001b[49m\u001b[43m)\u001b[49m\u001b[43m(\u001b[49m\n\u001b[1;32m    280\u001b[0m \u001b[43m    \u001b[49m\u001b[43mdelayed\u001b[49m\u001b[43m(\u001b[49m\u001b[43m_fit_estimator\u001b[49m\u001b[43m)\u001b[49m\u001b[43m(\u001b[49m\n\u001b[1;32m    281\u001b[0m \u001b[43m        \u001b[49m\u001b[38;5;28;43mself\u001b[39;49m\u001b[38;5;241;43m.\u001b[39;49m\u001b[43mestimator\u001b[49m\u001b[43m,\u001b[49m\u001b[43m \u001b[49m\u001b[43mX\u001b[49m\u001b[43m,\u001b[49m\u001b[43m \u001b[49m\u001b[43my\u001b[49m\u001b[43m[\u001b[49m\u001b[43m:\u001b[49m\u001b[43m,\u001b[49m\u001b[43m \u001b[49m\u001b[43mi\u001b[49m\u001b[43m]\u001b[49m\u001b[43m,\u001b[49m\u001b[43m \u001b[49m\u001b[38;5;241;43m*\u001b[39;49m\u001b[38;5;241;43m*\u001b[39;49m\u001b[43mrouted_params\u001b[49m\u001b[38;5;241;43m.\u001b[39;49m\u001b[43mestimator\u001b[49m\u001b[38;5;241;43m.\u001b[39;49m\u001b[43mfit\u001b[49m\n\u001b[1;32m    282\u001b[0m \u001b[43m    \u001b[49m\u001b[43m)\u001b[49m\n\u001b[1;32m    283\u001b[0m \u001b[43m    \u001b[49m\u001b[38;5;28;43;01mfor\u001b[39;49;00m\u001b[43m \u001b[49m\u001b[43mi\u001b[49m\u001b[43m \u001b[49m\u001b[38;5;129;43;01min\u001b[39;49;00m\u001b[43m \u001b[49m\u001b[38;5;28;43mrange\u001b[39;49m\u001b[43m(\u001b[49m\u001b[43my\u001b[49m\u001b[38;5;241;43m.\u001b[39;49m\u001b[43mshape\u001b[49m\u001b[43m[\u001b[49m\u001b[38;5;241;43m1\u001b[39;49m\u001b[43m]\u001b[49m\u001b[43m)\u001b[49m\n\u001b[1;32m    284\u001b[0m \u001b[43m\u001b[49m\u001b[43m)\u001b[49m\n\u001b[1;32m    286\u001b[0m \u001b[38;5;28;01mif\u001b[39;00m \u001b[38;5;28mhasattr\u001b[39m(\u001b[38;5;28mself\u001b[39m\u001b[38;5;241m.\u001b[39mestimators_[\u001b[38;5;241m0\u001b[39m], \u001b[38;5;124m\"\u001b[39m\u001b[38;5;124mn_features_in_\u001b[39m\u001b[38;5;124m\"\u001b[39m):\n\u001b[1;32m    287\u001b[0m     \u001b[38;5;28mself\u001b[39m\u001b[38;5;241m.\u001b[39mn_features_in_ \u001b[38;5;241m=\u001b[39m \u001b[38;5;28mself\u001b[39m\u001b[38;5;241m.\u001b[39mestimators_[\u001b[38;5;241m0\u001b[39m]\u001b[38;5;241m.\u001b[39mn_features_in_\n",
      "File \u001b[0;32m/opt/conda/lib/python3.11/site-packages/sklearn/utils/parallel.py:67\u001b[0m, in \u001b[0;36mParallel.__call__\u001b[0;34m(self, iterable)\u001b[0m\n\u001b[1;32m     62\u001b[0m config \u001b[38;5;241m=\u001b[39m get_config()\n\u001b[1;32m     63\u001b[0m iterable_with_config \u001b[38;5;241m=\u001b[39m (\n\u001b[1;32m     64\u001b[0m     (_with_config(delayed_func, config), args, kwargs)\n\u001b[1;32m     65\u001b[0m     \u001b[38;5;28;01mfor\u001b[39;00m delayed_func, args, kwargs \u001b[38;5;129;01min\u001b[39;00m iterable\n\u001b[1;32m     66\u001b[0m )\n\u001b[0;32m---> 67\u001b[0m \u001b[38;5;28;01mreturn\u001b[39;00m \u001b[38;5;28;43msuper\u001b[39;49m\u001b[43m(\u001b[49m\u001b[43m)\u001b[49m\u001b[38;5;241;43m.\u001b[39;49m\u001b[38;5;21;43m__call__\u001b[39;49m\u001b[43m(\u001b[49m\u001b[43miterable_with_config\u001b[49m\u001b[43m)\u001b[49m\n",
      "File \u001b[0;32m/opt/conda/lib/python3.11/site-packages/joblib/parallel.py:1918\u001b[0m, in \u001b[0;36mParallel.__call__\u001b[0;34m(self, iterable)\u001b[0m\n\u001b[1;32m   1916\u001b[0m     output \u001b[38;5;241m=\u001b[39m \u001b[38;5;28mself\u001b[39m\u001b[38;5;241m.\u001b[39m_get_sequential_output(iterable)\n\u001b[1;32m   1917\u001b[0m     \u001b[38;5;28mnext\u001b[39m(output)\n\u001b[0;32m-> 1918\u001b[0m     \u001b[38;5;28;01mreturn\u001b[39;00m output \u001b[38;5;28;01mif\u001b[39;00m \u001b[38;5;28mself\u001b[39m\u001b[38;5;241m.\u001b[39mreturn_generator \u001b[38;5;28;01melse\u001b[39;00m \u001b[38;5;28;43mlist\u001b[39;49m\u001b[43m(\u001b[49m\u001b[43moutput\u001b[49m\u001b[43m)\u001b[49m\n\u001b[1;32m   1920\u001b[0m \u001b[38;5;66;03m# Let's create an ID that uniquely identifies the current call. If the\u001b[39;00m\n\u001b[1;32m   1921\u001b[0m \u001b[38;5;66;03m# call is interrupted early and that the same instance is immediately\u001b[39;00m\n\u001b[1;32m   1922\u001b[0m \u001b[38;5;66;03m# re-used, this id will be used to prevent workers that were\u001b[39;00m\n\u001b[1;32m   1923\u001b[0m \u001b[38;5;66;03m# concurrently finalizing a task from the previous call to run the\u001b[39;00m\n\u001b[1;32m   1924\u001b[0m \u001b[38;5;66;03m# callback.\u001b[39;00m\n\u001b[1;32m   1925\u001b[0m \u001b[38;5;28;01mwith\u001b[39;00m \u001b[38;5;28mself\u001b[39m\u001b[38;5;241m.\u001b[39m_lock:\n",
      "File \u001b[0;32m/opt/conda/lib/python3.11/site-packages/joblib/parallel.py:1847\u001b[0m, in \u001b[0;36mParallel._get_sequential_output\u001b[0;34m(self, iterable)\u001b[0m\n\u001b[1;32m   1845\u001b[0m \u001b[38;5;28mself\u001b[39m\u001b[38;5;241m.\u001b[39mn_dispatched_batches \u001b[38;5;241m+\u001b[39m\u001b[38;5;241m=\u001b[39m \u001b[38;5;241m1\u001b[39m\n\u001b[1;32m   1846\u001b[0m \u001b[38;5;28mself\u001b[39m\u001b[38;5;241m.\u001b[39mn_dispatched_tasks \u001b[38;5;241m+\u001b[39m\u001b[38;5;241m=\u001b[39m \u001b[38;5;241m1\u001b[39m\n\u001b[0;32m-> 1847\u001b[0m res \u001b[38;5;241m=\u001b[39m \u001b[43mfunc\u001b[49m\u001b[43m(\u001b[49m\u001b[38;5;241;43m*\u001b[39;49m\u001b[43margs\u001b[49m\u001b[43m,\u001b[49m\u001b[43m \u001b[49m\u001b[38;5;241;43m*\u001b[39;49m\u001b[38;5;241;43m*\u001b[39;49m\u001b[43mkwargs\u001b[49m\u001b[43m)\u001b[49m\n\u001b[1;32m   1848\u001b[0m \u001b[38;5;28mself\u001b[39m\u001b[38;5;241m.\u001b[39mn_completed_tasks \u001b[38;5;241m+\u001b[39m\u001b[38;5;241m=\u001b[39m \u001b[38;5;241m1\u001b[39m\n\u001b[1;32m   1849\u001b[0m \u001b[38;5;28mself\u001b[39m\u001b[38;5;241m.\u001b[39mprint_progress()\n",
      "File \u001b[0;32m/opt/conda/lib/python3.11/site-packages/sklearn/utils/parallel.py:129\u001b[0m, in \u001b[0;36m_FuncWrapper.__call__\u001b[0;34m(self, *args, **kwargs)\u001b[0m\n\u001b[1;32m    127\u001b[0m     config \u001b[38;5;241m=\u001b[39m {}\n\u001b[1;32m    128\u001b[0m \u001b[38;5;28;01mwith\u001b[39;00m config_context(\u001b[38;5;241m*\u001b[39m\u001b[38;5;241m*\u001b[39mconfig):\n\u001b[0;32m--> 129\u001b[0m     \u001b[38;5;28;01mreturn\u001b[39;00m \u001b[38;5;28;43mself\u001b[39;49m\u001b[38;5;241;43m.\u001b[39;49m\u001b[43mfunction\u001b[49m\u001b[43m(\u001b[49m\u001b[38;5;241;43m*\u001b[39;49m\u001b[43margs\u001b[49m\u001b[43m,\u001b[49m\u001b[43m \u001b[49m\u001b[38;5;241;43m*\u001b[39;49m\u001b[38;5;241;43m*\u001b[39;49m\u001b[43mkwargs\u001b[49m\u001b[43m)\u001b[49m\n",
      "File \u001b[0;32m/opt/conda/lib/python3.11/site-packages/sklearn/multioutput.py:68\u001b[0m, in \u001b[0;36m_fit_estimator\u001b[0;34m(estimator, X, y, sample_weight, **fit_params)\u001b[0m\n\u001b[1;32m     66\u001b[0m     estimator\u001b[38;5;241m.\u001b[39mfit(X, y, sample_weight\u001b[38;5;241m=\u001b[39msample_weight, \u001b[38;5;241m*\u001b[39m\u001b[38;5;241m*\u001b[39mfit_params)\n\u001b[1;32m     67\u001b[0m \u001b[38;5;28;01melse\u001b[39;00m:\n\u001b[0;32m---> 68\u001b[0m     \u001b[43mestimator\u001b[49m\u001b[38;5;241;43m.\u001b[39;49m\u001b[43mfit\u001b[49m\u001b[43m(\u001b[49m\u001b[43mX\u001b[49m\u001b[43m,\u001b[49m\u001b[43m \u001b[49m\u001b[43my\u001b[49m\u001b[43m,\u001b[49m\u001b[43m \u001b[49m\u001b[38;5;241;43m*\u001b[39;49m\u001b[38;5;241;43m*\u001b[39;49m\u001b[43mfit_params\u001b[49m\u001b[43m)\u001b[49m\n\u001b[1;32m     69\u001b[0m \u001b[38;5;28;01mreturn\u001b[39;00m estimator\n",
      "File \u001b[0;32m/opt/conda/lib/python3.11/site-packages/xgboost/core.py:726\u001b[0m, in \u001b[0;36mrequire_keyword_args.<locals>.throw_if.<locals>.inner_f\u001b[0;34m(*args, **kwargs)\u001b[0m\n\u001b[1;32m    724\u001b[0m \u001b[38;5;28;01mfor\u001b[39;00m k, arg \u001b[38;5;129;01min\u001b[39;00m \u001b[38;5;28mzip\u001b[39m(sig\u001b[38;5;241m.\u001b[39mparameters, args):\n\u001b[1;32m    725\u001b[0m     kwargs[k] \u001b[38;5;241m=\u001b[39m arg\n\u001b[0;32m--> 726\u001b[0m \u001b[38;5;28;01mreturn\u001b[39;00m \u001b[43mfunc\u001b[49m\u001b[43m(\u001b[49m\u001b[38;5;241;43m*\u001b[39;49m\u001b[38;5;241;43m*\u001b[39;49m\u001b[43mkwargs\u001b[49m\u001b[43m)\u001b[49m\n",
      "File \u001b[0;32m/opt/conda/lib/python3.11/site-packages/xgboost/sklearn.py:1531\u001b[0m, in \u001b[0;36mXGBClassifier.fit\u001b[0;34m(self, X, y, sample_weight, base_margin, eval_set, verbose, xgb_model, sample_weight_eval_set, base_margin_eval_set, feature_weights)\u001b[0m\n\u001b[1;32m   1511\u001b[0m model, metric, params \u001b[38;5;241m=\u001b[39m \u001b[38;5;28mself\u001b[39m\u001b[38;5;241m.\u001b[39m_configure_fit(xgb_model, params)\n\u001b[1;32m   1512\u001b[0m train_dmatrix, evals \u001b[38;5;241m=\u001b[39m _wrap_evaluation_matrices(\n\u001b[1;32m   1513\u001b[0m     missing\u001b[38;5;241m=\u001b[39m\u001b[38;5;28mself\u001b[39m\u001b[38;5;241m.\u001b[39mmissing,\n\u001b[1;32m   1514\u001b[0m     X\u001b[38;5;241m=\u001b[39mX,\n\u001b[0;32m   (...)\u001b[0m\n\u001b[1;32m   1528\u001b[0m     feature_types\u001b[38;5;241m=\u001b[39m\u001b[38;5;28mself\u001b[39m\u001b[38;5;241m.\u001b[39mfeature_types,\n\u001b[1;32m   1529\u001b[0m )\n\u001b[0;32m-> 1531\u001b[0m \u001b[38;5;28mself\u001b[39m\u001b[38;5;241m.\u001b[39m_Booster \u001b[38;5;241m=\u001b[39m \u001b[43mtrain\u001b[49m\u001b[43m(\u001b[49m\n\u001b[1;32m   1532\u001b[0m \u001b[43m    \u001b[49m\u001b[43mparams\u001b[49m\u001b[43m,\u001b[49m\n\u001b[1;32m   1533\u001b[0m \u001b[43m    \u001b[49m\u001b[43mtrain_dmatrix\u001b[49m\u001b[43m,\u001b[49m\n\u001b[1;32m   1534\u001b[0m \u001b[43m    \u001b[49m\u001b[38;5;28;43mself\u001b[39;49m\u001b[38;5;241;43m.\u001b[39;49m\u001b[43mget_num_boosting_rounds\u001b[49m\u001b[43m(\u001b[49m\u001b[43m)\u001b[49m\u001b[43m,\u001b[49m\n\u001b[1;32m   1535\u001b[0m \u001b[43m    \u001b[49m\u001b[43mevals\u001b[49m\u001b[38;5;241;43m=\u001b[39;49m\u001b[43mevals\u001b[49m\u001b[43m,\u001b[49m\n\u001b[1;32m   1536\u001b[0m \u001b[43m    \u001b[49m\u001b[43mearly_stopping_rounds\u001b[49m\u001b[38;5;241;43m=\u001b[39;49m\u001b[38;5;28;43mself\u001b[39;49m\u001b[38;5;241;43m.\u001b[39;49m\u001b[43mearly_stopping_rounds\u001b[49m\u001b[43m,\u001b[49m\n\u001b[1;32m   1537\u001b[0m \u001b[43m    \u001b[49m\u001b[43mevals_result\u001b[49m\u001b[38;5;241;43m=\u001b[39;49m\u001b[43mevals_result\u001b[49m\u001b[43m,\u001b[49m\n\u001b[1;32m   1538\u001b[0m \u001b[43m    \u001b[49m\u001b[43mobj\u001b[49m\u001b[38;5;241;43m=\u001b[39;49m\u001b[43mobj\u001b[49m\u001b[43m,\u001b[49m\n\u001b[1;32m   1539\u001b[0m \u001b[43m    \u001b[49m\u001b[43mcustom_metric\u001b[49m\u001b[38;5;241;43m=\u001b[39;49m\u001b[43mmetric\u001b[49m\u001b[43m,\u001b[49m\n\u001b[1;32m   1540\u001b[0m \u001b[43m    \u001b[49m\u001b[43mverbose_eval\u001b[49m\u001b[38;5;241;43m=\u001b[39;49m\u001b[43mverbose\u001b[49m\u001b[43m,\u001b[49m\n\u001b[1;32m   1541\u001b[0m \u001b[43m    \u001b[49m\u001b[43mxgb_model\u001b[49m\u001b[38;5;241;43m=\u001b[39;49m\u001b[43mmodel\u001b[49m\u001b[43m,\u001b[49m\n\u001b[1;32m   1542\u001b[0m \u001b[43m    \u001b[49m\u001b[43mcallbacks\u001b[49m\u001b[38;5;241;43m=\u001b[39;49m\u001b[38;5;28;43mself\u001b[39;49m\u001b[38;5;241;43m.\u001b[39;49m\u001b[43mcallbacks\u001b[49m\u001b[43m,\u001b[49m\n\u001b[1;32m   1543\u001b[0m \u001b[43m\u001b[49m\u001b[43m)\u001b[49m\n\u001b[1;32m   1545\u001b[0m \u001b[38;5;28;01mif\u001b[39;00m \u001b[38;5;129;01mnot\u001b[39;00m \u001b[38;5;28mcallable\u001b[39m(\u001b[38;5;28mself\u001b[39m\u001b[38;5;241m.\u001b[39mobjective):\n\u001b[1;32m   1546\u001b[0m     \u001b[38;5;28mself\u001b[39m\u001b[38;5;241m.\u001b[39mobjective \u001b[38;5;241m=\u001b[39m params[\u001b[38;5;124m\"\u001b[39m\u001b[38;5;124mobjective\u001b[39m\u001b[38;5;124m\"\u001b[39m]\n",
      "File \u001b[0;32m/opt/conda/lib/python3.11/site-packages/xgboost/core.py:726\u001b[0m, in \u001b[0;36mrequire_keyword_args.<locals>.throw_if.<locals>.inner_f\u001b[0;34m(*args, **kwargs)\u001b[0m\n\u001b[1;32m    724\u001b[0m \u001b[38;5;28;01mfor\u001b[39;00m k, arg \u001b[38;5;129;01min\u001b[39;00m \u001b[38;5;28mzip\u001b[39m(sig\u001b[38;5;241m.\u001b[39mparameters, args):\n\u001b[1;32m    725\u001b[0m     kwargs[k] \u001b[38;5;241m=\u001b[39m arg\n\u001b[0;32m--> 726\u001b[0m \u001b[38;5;28;01mreturn\u001b[39;00m \u001b[43mfunc\u001b[49m\u001b[43m(\u001b[49m\u001b[38;5;241;43m*\u001b[39;49m\u001b[38;5;241;43m*\u001b[39;49m\u001b[43mkwargs\u001b[49m\u001b[43m)\u001b[49m\n",
      "File \u001b[0;32m/opt/conda/lib/python3.11/site-packages/xgboost/training.py:181\u001b[0m, in \u001b[0;36mtrain\u001b[0;34m(params, dtrain, num_boost_round, evals, obj, feval, maximize, early_stopping_rounds, evals_result, verbose_eval, xgb_model, callbacks, custom_metric)\u001b[0m\n\u001b[1;32m    179\u001b[0m \u001b[38;5;28;01mif\u001b[39;00m cb_container\u001b[38;5;241m.\u001b[39mbefore_iteration(bst, i, dtrain, evals):\n\u001b[1;32m    180\u001b[0m     \u001b[38;5;28;01mbreak\u001b[39;00m\n\u001b[0;32m--> 181\u001b[0m \u001b[43mbst\u001b[49m\u001b[38;5;241;43m.\u001b[39;49m\u001b[43mupdate\u001b[49m\u001b[43m(\u001b[49m\u001b[43mdtrain\u001b[49m\u001b[43m,\u001b[49m\u001b[43m \u001b[49m\u001b[43miteration\u001b[49m\u001b[38;5;241;43m=\u001b[39;49m\u001b[43mi\u001b[49m\u001b[43m,\u001b[49m\u001b[43m \u001b[49m\u001b[43mfobj\u001b[49m\u001b[38;5;241;43m=\u001b[39;49m\u001b[43mobj\u001b[49m\u001b[43m)\u001b[49m\n\u001b[1;32m    182\u001b[0m \u001b[38;5;28;01mif\u001b[39;00m cb_container\u001b[38;5;241m.\u001b[39mafter_iteration(bst, i, dtrain, evals):\n\u001b[1;32m    183\u001b[0m     \u001b[38;5;28;01mbreak\u001b[39;00m\n",
      "File \u001b[0;32m/opt/conda/lib/python3.11/site-packages/xgboost/core.py:2100\u001b[0m, in \u001b[0;36mBooster.update\u001b[0;34m(self, dtrain, iteration, fobj)\u001b[0m\n\u001b[1;32m   2097\u001b[0m \u001b[38;5;28mself\u001b[39m\u001b[38;5;241m.\u001b[39m_assign_dmatrix_features(dtrain)\n\u001b[1;32m   2099\u001b[0m \u001b[38;5;28;01mif\u001b[39;00m fobj \u001b[38;5;129;01mis\u001b[39;00m \u001b[38;5;28;01mNone\u001b[39;00m:\n\u001b[0;32m-> 2100\u001b[0m     \u001b[43m_check_call\u001b[49m\u001b[43m(\u001b[49m\n\u001b[1;32m   2101\u001b[0m \u001b[43m        \u001b[49m\u001b[43m_LIB\u001b[49m\u001b[38;5;241;43m.\u001b[39;49m\u001b[43mXGBoosterUpdateOneIter\u001b[49m\u001b[43m(\u001b[49m\n\u001b[1;32m   2102\u001b[0m \u001b[43m            \u001b[49m\u001b[38;5;28;43mself\u001b[39;49m\u001b[38;5;241;43m.\u001b[39;49m\u001b[43mhandle\u001b[49m\u001b[43m,\u001b[49m\u001b[43m \u001b[49m\u001b[43mctypes\u001b[49m\u001b[38;5;241;43m.\u001b[39;49m\u001b[43mc_int\u001b[49m\u001b[43m(\u001b[49m\u001b[43miteration\u001b[49m\u001b[43m)\u001b[49m\u001b[43m,\u001b[49m\u001b[43m \u001b[49m\u001b[43mdtrain\u001b[49m\u001b[38;5;241;43m.\u001b[39;49m\u001b[43mhandle\u001b[49m\n\u001b[1;32m   2103\u001b[0m \u001b[43m        \u001b[49m\u001b[43m)\u001b[49m\n\u001b[1;32m   2104\u001b[0m \u001b[43m    \u001b[49m\u001b[43m)\u001b[49m\n\u001b[1;32m   2105\u001b[0m \u001b[38;5;28;01melse\u001b[39;00m:\n\u001b[1;32m   2106\u001b[0m     pred \u001b[38;5;241m=\u001b[39m \u001b[38;5;28mself\u001b[39m\u001b[38;5;241m.\u001b[39mpredict(dtrain, output_margin\u001b[38;5;241m=\u001b[39m\u001b[38;5;28;01mTrue\u001b[39;00m, training\u001b[38;5;241m=\u001b[39m\u001b[38;5;28;01mTrue\u001b[39;00m)\n",
      "File \u001b[0;32m/opt/conda/lib/python3.11/site-packages/xgboost/core.py:284\u001b[0m, in \u001b[0;36m_check_call\u001b[0;34m(ret)\u001b[0m\n\u001b[1;32m    273\u001b[0m \u001b[38;5;250m\u001b[39m\u001b[38;5;124;03m\"\"\"Check the return value of C API call\u001b[39;00m\n\u001b[1;32m    274\u001b[0m \n\u001b[1;32m    275\u001b[0m \u001b[38;5;124;03mThis function will raise exception when error occurs.\u001b[39;00m\n\u001b[0;32m   (...)\u001b[0m\n\u001b[1;32m    281\u001b[0m \u001b[38;5;124;03m    return value from API calls\u001b[39;00m\n\u001b[1;32m    282\u001b[0m \u001b[38;5;124;03m\"\"\"\u001b[39;00m\n\u001b[1;32m    283\u001b[0m \u001b[38;5;28;01mif\u001b[39;00m ret \u001b[38;5;241m!=\u001b[39m \u001b[38;5;241m0\u001b[39m:\n\u001b[0;32m--> 284\u001b[0m     \u001b[38;5;28;01mraise\u001b[39;00m XGBoostError(py_str(_LIB\u001b[38;5;241m.\u001b[39mXGBGetLastError()))\n",
      "\u001b[0;31mXGBoostError\u001b[0m: [19:29:40] /workspace/src/objective/regression_obj.cu:50: Check failed: info.labels.Size() == preds.Size() (5841 vs. 70092) : Invalid shape of labels.\nStack trace:\n  [bt] (0) /opt/conda/lib/python3.11/site-packages/xgboost/lib/libxgboost.so(+0x22dcbc) [0x7f64a462dcbc]\n  [bt] (1) /opt/conda/lib/python3.11/site-packages/xgboost/lib/libxgboost.so(+0xc30292) [0x7f64a5030292]\n  [bt] (2) /opt/conda/lib/python3.11/site-packages/xgboost/lib/libxgboost.so(+0xc76a3f) [0x7f64a5076a3f]\n  [bt] (3) /opt/conda/lib/python3.11/site-packages/xgboost/lib/libxgboost.so(+0x5cb173) [0x7f64a49cb173]\n  [bt] (4) /opt/conda/lib/python3.11/site-packages/xgboost/lib/libxgboost.so(XGBoosterUpdateOneIter+0x6f) [0x7f64a453752f]\n  [bt] (5) /opt/conda/lib/python3.11/lib-dynload/../../libffi.so.8(+0x6a4a) [0x7f650e8d3a4a]\n  [bt] (6) /opt/conda/lib/python3.11/lib-dynload/../../libffi.so.8(+0x5fea) [0x7f650e8d2fea]\n  [bt] (7) /opt/conda/lib/python3.11/lib-dynload/_ctypes.cpython-311-x86_64-linux-gnu.so(+0x12545) [0x7f650e8eb545]\n  [bt] (8) /opt/conda/lib/python3.11/lib-dynload/_ctypes.cpython-311-x86_64-linux-gnu.so(+0x887a) [0x7f650e8e187a]\n\n"
     ]
    }
   ],
   "source": [
    "# Create the base XGBClassifier with the binary:logistic objective\n",
    "xgb_clf = XGBClassifier(objective='binary:logistic', \n",
    "                        eval_metric='logloss', \n",
    "                        seed=42, \n",
    "                        early_stopping_rounds=10)\n",
    "\n",
    "# Wrap the XGBClassifier in MultiOutputClassifier to handle multi-output problem\n",
    "multi_output_xgb = MultiOutputClassifier(xgb_clf)\n",
    "\n",
    "# Fit the model first\n",
    "multi_output_xgb.fit(X_train, y_train, eval_set=[(X_train, y_train), (X_test, y_test)], verbose=True)\n",
    "\n",
    "# Now, modify scale_pos_weight for each classifier in estimators_\n",
    "for i, clf in enumerate(multi_output_xgb.estimators_):\n",
    "    clf.set_params(scale_pos_weight=scale_pos_weight[i])  # Set scale_pos_weight for each classifier\n",
    "\n",
    "# Make predictions\n",
    "y_pred = multi_output_xgb.predict(X_test)"
   ]
  },
  {
   "cell_type": "code",
   "execution_count": null,
   "id": "627f1114-ab32-4c5f-91fc-7fdaa02ee67b",
   "metadata": {},
   "outputs": [],
   "source": []
  },
  {
   "cell_type": "code",
   "execution_count": null,
   "id": "192a0001-9ec9-442f-8928-6a98f44ea443",
   "metadata": {},
   "outputs": [],
   "source": [
    "# Create the base model (XGBClassifier with binary:logistic objective)\n",
    "xgb_clf = XGBClassifier(objective='binary:logistic', \n",
    "                        eval_metric='logloss', \n",
    "                        seed=42, \n",
    "                        early_stopping_rounds=10)\n",
    "\n",
    "# Wrap the XGBClassifier in MultiOutputClassifier to handle multi-output problem\n",
    "multi_output_xgb = MultiOutputClassifier(xgb_clf)\n",
    "\n",
    "# Train the model on the multi-output data\n",
    "multi_output_xgb.fit(X_train, y_train)\n",
    "\n",
    "# Make predictions\n",
    "y_pred = multi_output_xgb.predict(X_test)\n"
   ]
  },
  {
   "cell_type": "code",
   "execution_count": null,
   "id": "493d533d-e06f-4b85-bee2-79e5cd839f17",
   "metadata": {},
   "outputs": [],
   "source": []
  },
  {
   "cell_type": "code",
   "execution_count": 16,
   "id": "c9acf08f-2b4c-4e24-a19f-0780df46e91a",
   "metadata": {},
   "outputs": [],
   "source": [
    "import xgboost as xgb\n",
    "from sklearn.model_selection import train_test_split\n",
    "import numpy as np\n",
    "\n",
    "# Flatten the SLA grid for each day\n",
    "X = np.load('X.npy').reshape(7302, -1)  # Shape (7302, 16000)\n",
    "y = flood_data  # Shape (7302, 12)"
   ]
  },
  {
   "cell_type": "code",
   "execution_count": 17,
   "id": "36c1ba83-7bd1-48fb-bb1f-36dbf8afbd6a",
   "metadata": {},
   "outputs": [
    {
     "name": "stdout",
     "output_type": "stream",
     "text": [
      "(7302, 16000)\n"
     ]
    }
   ],
   "source": [
    "print(X.shape)"
   ]
  },
  {
   "cell_type": "code",
   "execution_count": 64,
   "id": "d835e21c-040a-4694-8463-f871d79c9d2c",
   "metadata": {},
   "outputs": [
    {
     "name": "stdout",
     "output_type": "stream",
     "text": [
      "17.661341853035143\n",
      "[0]\teval-logloss:0.69024\ttrain-logloss:0.68951\n",
      "[1]\teval-logloss:0.68721\ttrain-logloss:0.68594\n",
      "[2]\teval-logloss:0.68453\ttrain-logloss:0.68239\n",
      "[3]\teval-logloss:0.68132\ttrain-logloss:0.67801\n",
      "[4]\teval-logloss:0.67864\ttrain-logloss:0.67461\n",
      "[5]\teval-logloss:0.67535\ttrain-logloss:0.67027\n",
      "[6]\teval-logloss:0.67259\ttrain-logloss:0.66606\n",
      "[7]\teval-logloss:0.67016\ttrain-logloss:0.66277\n",
      "[8]\teval-logloss:0.66821\ttrain-logloss:0.65878\n",
      "[9]\teval-logloss:0.66566\ttrain-logloss:0.65477\n",
      "[10]\teval-logloss:0.66401\ttrain-logloss:0.65162\n",
      "[11]\teval-logloss:0.66188\ttrain-logloss:0.64784\n",
      "[12]\teval-logloss:0.65974\ttrain-logloss:0.64390\n",
      "[13]\teval-logloss:0.65770\ttrain-logloss:0.64088\n",
      "[14]\teval-logloss:0.65537\ttrain-logloss:0.63717\n",
      "[15]\teval-logloss:0.65363\ttrain-logloss:0.63351\n",
      "[16]\teval-logloss:0.65230\ttrain-logloss:0.63055\n",
      "[17]\teval-logloss:0.65008\ttrain-logloss:0.62699\n",
      "[18]\teval-logloss:0.64906\ttrain-logloss:0.62421\n",
      "[19]\teval-logloss:0.64741\ttrain-logloss:0.62086\n",
      "[20]\teval-logloss:0.64491\ttrain-logloss:0.61739\n",
      "[21]\teval-logloss:0.64329\ttrain-logloss:0.61414\n",
      "[22]\teval-logloss:0.64153\ttrain-logloss:0.61122\n",
      "[23]\teval-logloss:0.63906\ttrain-logloss:0.60789\n",
      "[24]\teval-logloss:0.63872\ttrain-logloss:0.60516\n",
      "[25]\teval-logloss:0.63707\ttrain-logloss:0.60207\n",
      "[26]\teval-logloss:0.63489\ttrain-logloss:0.59887\n",
      "[27]\teval-logloss:0.63304\ttrain-logloss:0.59582\n",
      "[28]\teval-logloss:0.63157\ttrain-logloss:0.59313\n",
      "[29]\teval-logloss:0.62955\ttrain-logloss:0.59008\n",
      "[30]\teval-logloss:0.62896\ttrain-logloss:0.58756\n",
      "[31]\teval-logloss:0.62720\ttrain-logloss:0.58471\n",
      "[32]\teval-logloss:0.62610\ttrain-logloss:0.58206\n",
      "[33]\teval-logloss:0.62455\ttrain-logloss:0.57954\n",
      "[34]\teval-logloss:0.62326\ttrain-logloss:0.57632\n",
      "[35]\teval-logloss:0.62118\ttrain-logloss:0.57351\n",
      "[36]\teval-logloss:0.62107\ttrain-logloss:0.57114\n",
      "[37]\teval-logloss:0.61984\ttrain-logloss:0.56805\n",
      "[38]\teval-logloss:0.61866\ttrain-logloss:0.56502\n",
      "[39]\teval-logloss:0.61738\ttrain-logloss:0.56268\n",
      "[40]\teval-logloss:0.61494\ttrain-logloss:0.55979\n",
      "[41]\teval-logloss:0.61348\ttrain-logloss:0.55688\n",
      "[42]\teval-logloss:0.61224\ttrain-logloss:0.55394\n",
      "[43]\teval-logloss:0.61010\ttrain-logloss:0.55116\n",
      "[44]\teval-logloss:0.60899\ttrain-logloss:0.54830\n",
      "[45]\teval-logloss:0.60890\ttrain-logloss:0.54617\n",
      "[46]\teval-logloss:0.60767\ttrain-logloss:0.54351\n",
      "[47]\teval-logloss:0.60640\ttrain-logloss:0.54076\n",
      "[48]\teval-logloss:0.60415\ttrain-logloss:0.53813\n",
      "[49]\teval-logloss:0.60310\ttrain-logloss:0.53546\n",
      "Trained model for city 1.\n",
      "200.41379310344828\n",
      "[0]\teval-logloss:0.68446\ttrain-logloss:0.68464\n",
      "[1]\teval-logloss:0.67591\ttrain-logloss:0.67632\n",
      "[2]\teval-logloss:0.66815\ttrain-logloss:0.66815\n",
      "[3]\teval-logloss:0.65961\ttrain-logloss:0.66010\n",
      "[4]\teval-logloss:0.65157\ttrain-logloss:0.65224\n",
      "[5]\teval-logloss:0.64336\ttrain-logloss:0.64450\n",
      "[6]\teval-logloss:0.63618\ttrain-logloss:0.63692\n",
      "[7]\teval-logloss:0.62860\ttrain-logloss:0.62946\n",
      "[8]\teval-logloss:0.62169\ttrain-logloss:0.62216\n",
      "[9]\teval-logloss:0.61403\ttrain-logloss:0.61498\n",
      "[10]\teval-logloss:0.60738\ttrain-logloss:0.60794\n",
      "[11]\teval-logloss:0.60024\ttrain-logloss:0.60105\n",
      "[12]\teval-logloss:0.59329\ttrain-logloss:0.59426\n",
      "[13]\teval-logloss:0.58747\ttrain-logloss:0.58765\n",
      "[14]\teval-logloss:0.58049\ttrain-logloss:0.58105\n",
      "[15]\teval-logloss:0.57366\ttrain-logloss:0.57459\n",
      "[16]\teval-logloss:0.56767\ttrain-logloss:0.56825\n",
      "[17]\teval-logloss:0.56087\ttrain-logloss:0.56199\n",
      "[18]\teval-logloss:0.55470\ttrain-logloss:0.55594\n",
      "[19]\teval-logloss:0.54892\ttrain-logloss:0.54985\n",
      "[20]\teval-logloss:0.54286\ttrain-logloss:0.54392\n",
      "[21]\teval-logloss:0.53700\ttrain-logloss:0.53807\n",
      "[22]\teval-logloss:0.53149\ttrain-logloss:0.53227\n",
      "[23]\teval-logloss:0.52609\ttrain-logloss:0.52668\n",
      "[24]\teval-logloss:0.52062\ttrain-logloss:0.52114\n",
      "[25]\teval-logloss:0.51592\ttrain-logloss:0.51574\n",
      "[26]\teval-logloss:0.51088\ttrain-logloss:0.51039\n",
      "[27]\teval-logloss:0.50603\ttrain-logloss:0.50500\n",
      "[28]\teval-logloss:0.50059\ttrain-logloss:0.49968\n",
      "[29]\teval-logloss:0.49507\ttrain-logloss:0.49387\n",
      "[30]\teval-logloss:0.49012\ttrain-logloss:0.48873\n",
      "[31]\teval-logloss:0.48487\ttrain-logloss:0.48316\n",
      "[32]\teval-logloss:0.47976\ttrain-logloss:0.47816\n",
      "[33]\teval-logloss:0.47517\ttrain-logloss:0.47328\n",
      "[34]\teval-logloss:0.47005\ttrain-logloss:0.46789\n",
      "[35]\teval-logloss:0.46526\ttrain-logloss:0.46315\n",
      "[36]\teval-logloss:0.46094\ttrain-logloss:0.45855\n",
      "[37]\teval-logloss:0.45601\ttrain-logloss:0.45395\n",
      "[38]\teval-logloss:0.45194\ttrain-logloss:0.44939\n",
      "[39]\teval-logloss:0.44754\ttrain-logloss:0.44441\n",
      "[40]\teval-logloss:0.44301\ttrain-logloss:0.43997\n",
      "[41]\teval-logloss:0.43840\ttrain-logloss:0.43510\n",
      "[42]\teval-logloss:0.43402\ttrain-logloss:0.43083\n",
      "[43]\teval-logloss:0.43025\ttrain-logloss:0.42660\n",
      "[44]\teval-logloss:0.42584\ttrain-logloss:0.42193\n",
      "[45]\teval-logloss:0.42132\ttrain-logloss:0.41780\n",
      "[46]\teval-logloss:0.41700\ttrain-logloss:0.41324\n",
      "[47]\teval-logloss:0.41302\ttrain-logloss:0.40926\n",
      "[48]\teval-logloss:0.40923\ttrain-logloss:0.40531\n",
      "[49]\teval-logloss:0.40547\ttrain-logloss:0.40095\n",
      "Trained model for city 2.\n",
      "Classification report for city 1:\n"
     ]
    },
    {
     "ename": "NameError",
     "evalue": "name 'classification_report' is not defined",
     "output_type": "error",
     "traceback": [
      "\u001b[0;31m---------------------------------------------------------------------------\u001b[0m",
      "\u001b[0;31mNameError\u001b[0m                                 Traceback (most recent call last)",
      "Cell \u001b[0;32mIn[64], line 63\u001b[0m\n\u001b[1;32m     61\u001b[0m y_pred \u001b[38;5;241m=\u001b[39m (y_pred \u001b[38;5;241m>\u001b[39m \u001b[38;5;241m0.5\u001b[39m)\u001b[38;5;241m.\u001b[39mastype(\u001b[38;5;28mint\u001b[39m)  \u001b[38;5;66;03m# Convert probabilities to binary class labels\u001b[39;00m\n\u001b[1;32m     62\u001b[0m \u001b[38;5;28mprint\u001b[39m(\u001b[38;5;124mf\u001b[39m\u001b[38;5;124m\"\u001b[39m\u001b[38;5;124mClassification report for city \u001b[39m\u001b[38;5;132;01m{\u001b[39;00mcity_idx\u001b[38;5;250m \u001b[39m\u001b[38;5;241m+\u001b[39m\u001b[38;5;250m \u001b[39m\u001b[38;5;241m1\u001b[39m\u001b[38;5;132;01m}\u001b[39;00m\u001b[38;5;124m:\u001b[39m\u001b[38;5;124m\"\u001b[39m)\n\u001b[0;32m---> 63\u001b[0m \u001b[38;5;28mprint\u001b[39m(\u001b[43mclassification_report\u001b[49m(y_test[:, city_idx], y_pred))\n",
      "\u001b[0;31mNameError\u001b[0m: name 'classification_report' is not defined"
     ]
    }
   ],
   "source": [
    "# Split the data chronologically\n",
    "train_size = int(0.8 * X.shape[0])  # 80% for training, 20% for testing\n",
    "X_train, X_test = X[:train_size], X[train_size:]\n",
    "y_train, y_test = y[:train_size], y[train_size:]\n",
    "\n",
    "# Initialize a list to store trained models\n",
    "models = []\n",
    "\n",
    "# Train an XGBoost model for each city\n",
    "for city_idx in range(y.shape[1]-10):\n",
    "    # Define the target variable for this city\n",
    "    y_train_city = y_train[:, city_idx]\n",
    "    y_test_city = y_test[:, city_idx]\n",
    "\n",
    "    # Balance the classes (scale_pos_weight)\n",
    "    n_background = np.sum(y_train_city == 0)\n",
    "    n_signal = np.sum(y_train_city == 1)\n",
    "    scale_pos_weight = n_background / n_signal\n",
    "    print(scale_pos_weight)\n",
    "\n",
    "    # Convert data to DMatrix format for XGBoost\n",
    "    dtrain = xgb.DMatrix(X_train, label=y_train_city)\n",
    "    dtest = xgb.DMatrix(X_test, label=y_test_city)\n",
    "\n",
    "    # Define parameters for XGBoost\n",
    "    params = {\n",
    "        'max_depth': 4,\n",
    "        'eta': 0.01,\n",
    "        'objective': 'binary:logistic',\n",
    "        'eval_metric': 'logloss', \n",
    "        'scale_pos_weight': scale_pos_weight\n",
    "    }\n",
    "    evals = [(dtest, 'eval'), (dtrain, 'train')]\n",
    "\n",
    "    # Train the model for the current city\n",
    "    bst = xgb.train(\n",
    "        params=params,\n",
    "        dtrain=dtrain,\n",
    "        num_boost_round=50,\n",
    "        evals=evals,\n",
    "        early_stopping_rounds=10\n",
    "    )\n",
    "\n",
    "    # Store the trained model\n",
    "    models.append(bst)\n",
    "\n",
    "    # Optionally, print the model performance for the city\n",
    "    print(f\"Trained model for city {city_idx + 1}.\")"
   ]
  },
  {
   "cell_type": "code",
   "execution_count": 65,
   "id": "5e1d5e1f-7ded-4656-8f2e-ec41a405a1b5",
   "metadata": {},
   "outputs": [
    {
     "name": "stdout",
     "output_type": "stream",
     "text": [
      "Classification report for city 1:\n",
      "              precision    recall  f1-score   support\n",
      "\n",
      "           0       0.94      0.77      0.85      1336\n",
      "           1       0.17      0.52      0.26       125\n",
      "\n",
      "    accuracy                           0.75      1461\n",
      "   macro avg       0.56      0.64      0.55      1461\n",
      "weighted avg       0.88      0.75      0.80      1461\n",
      "\n",
      "Classification report for city 2:\n",
      "              precision    recall  f1-score   support\n",
      "\n",
      "           0       0.99      0.99      0.99      1440\n",
      "           1       0.00      0.00      0.00        21\n",
      "\n",
      "    accuracy                           0.98      1461\n",
      "   macro avg       0.49      0.50      0.49      1461\n",
      "weighted avg       0.97      0.98      0.97      1461\n",
      "\n"
     ]
    }
   ],
   "source": [
    "from sklearn.metrics import classification_report\n",
    "\n",
    "# Evaluate the models for each city\n",
    "for city_idx, bst in enumerate(models):\n",
    "    y_pred = bst.predict(dtest)\n",
    "    y_pred = (y_pred > 0.5).astype(int)  # Convert probabilities to binary class labels\n",
    "    print(f\"Classification report for city {city_idx + 1}:\")\n",
    "    print(classification_report(y_test[:, city_idx], y_pred))\n"
   ]
  },
  {
   "cell_type": "code",
   "execution_count": null,
   "id": "e251d52b-e45c-4f73-9ea2-72775f68bd8c",
   "metadata": {},
   "outputs": [],
   "source": []
  }
 ],
 "metadata": {
  "kernelspec": {
   "display_name": "Python 3 (ipykernel)",
   "language": "python",
   "name": "python3"
  },
  "language_info": {
   "codemirror_mode": {
    "name": "ipython",
    "version": 3
   },
   "file_extension": ".py",
   "mimetype": "text/x-python",
   "name": "python",
   "nbconvert_exporter": "python",
   "pygments_lexer": "ipython3",
   "version": "3.11.9"
  }
 },
 "nbformat": 4,
 "nbformat_minor": 5
}
