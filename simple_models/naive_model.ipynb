{
 "cells": [
  {
   "cell_type": "markdown",
   "metadata": {},
   "source": [
    "# Naive Model"
   ]
  },
  {
   "cell_type": "code",
   "execution_count": 1,
   "metadata": {},
   "outputs": [],
   "source": [
    "'''Import Statements'''\n",
    "\n",
    "import xarray as xr\n",
    "import numpy as np\n",
    "import zipfile\n",
    "from datetime import datetime\n",
    "import pandas as pd"
   ]
  },
  {
   "cell_type": "code",
   "execution_count": 2,
   "metadata": {},
   "outputs": [],
   "source": [
    "average_sla = {}\n",
    "\n",
    "with zipfile.ZipFile(\"Copernicus_ENA_Satelite Maps_Training_Data-20250111T200551Z-001.zip\", \"r\") as zip_ref:\n",
    "    # List all files in the zip\n",
    "    archive = zip_ref.namelist()\n",
    "\n",
    "    for file in archive:\n",
    "        zip_ref.extract(file)\n",
    "        date = file.split('_')[6]\n",
    "        date_data = xr.open_dataset(file)\n",
    "        sla_date = np.mean(date_data.variables[\"sla\"][:])\n",
    "        average_sla[date] = sla_date\n",
    "        "
   ]
  },
  {
   "cell_type": "code",
   "execution_count": 5,
   "metadata": {},
   "outputs": [
    {
     "data": {
      "text/html": [
       "<div>\n",
       "<style scoped>\n",
       "    .dataframe tbody tr th:only-of-type {\n",
       "        vertical-align: middle;\n",
       "    }\n",
       "\n",
       "    .dataframe tbody tr th {\n",
       "        vertical-align: top;\n",
       "    }\n",
       "\n",
       "    .dataframe thead th {\n",
       "        text-align: right;\n",
       "    }\n",
       "</style>\n",
       "<table border=\"1\" class=\"dataframe\">\n",
       "  <thead>\n",
       "    <tr style=\"text-align: right;\">\n",
       "      <th></th>\n",
       "      <th>date</th>\n",
       "      <th>average sla</th>\n",
       "      <th>pred anomaly</th>\n",
       "    </tr>\n",
       "  </thead>\n",
       "  <tbody>\n",
       "    <tr>\n",
       "      <th>0</th>\n",
       "      <td>19930101</td>\n",
       "      <td>-0.002769</td>\n",
       "      <td>0</td>\n",
       "    </tr>\n",
       "    <tr>\n",
       "      <th>1</th>\n",
       "      <td>19930102</td>\n",
       "      <td>-0.001877</td>\n",
       "      <td>0</td>\n",
       "    </tr>\n",
       "    <tr>\n",
       "      <th>2</th>\n",
       "      <td>19930103</td>\n",
       "      <td>-0.001213</td>\n",
       "      <td>0</td>\n",
       "    </tr>\n",
       "    <tr>\n",
       "      <th>3</th>\n",
       "      <td>19930104</td>\n",
       "      <td>-0.000957</td>\n",
       "      <td>0</td>\n",
       "    </tr>\n",
       "    <tr>\n",
       "      <th>4</th>\n",
       "      <td>19930105</td>\n",
       "      <td>-0.000709</td>\n",
       "      <td>0</td>\n",
       "    </tr>\n",
       "    <tr>\n",
       "      <th>...</th>\n",
       "      <td>...</td>\n",
       "      <td>...</td>\n",
       "      <td>...</td>\n",
       "    </tr>\n",
       "    <tr>\n",
       "      <th>7297</th>\n",
       "      <td>20131227</td>\n",
       "      <td>0.062840</td>\n",
       "      <td>0</td>\n",
       "    </tr>\n",
       "    <tr>\n",
       "      <th>7298</th>\n",
       "      <td>20131228</td>\n",
       "      <td>0.062716</td>\n",
       "      <td>0</td>\n",
       "    </tr>\n",
       "    <tr>\n",
       "      <th>7299</th>\n",
       "      <td>20131229</td>\n",
       "      <td>0.062040</td>\n",
       "      <td>0</td>\n",
       "    </tr>\n",
       "    <tr>\n",
       "      <th>7300</th>\n",
       "      <td>20131230</td>\n",
       "      <td>0.061426</td>\n",
       "      <td>0</td>\n",
       "    </tr>\n",
       "    <tr>\n",
       "      <th>7301</th>\n",
       "      <td>20131231</td>\n",
       "      <td>0.060692</td>\n",
       "      <td>0</td>\n",
       "    </tr>\n",
       "  </tbody>\n",
       "</table>\n",
       "<p>7302 rows × 3 columns</p>\n",
       "</div>"
      ],
      "text/plain": [
       "          date  average sla  pred anomaly\n",
       "0     19930101    -0.002769             0\n",
       "1     19930102    -0.001877             0\n",
       "2     19930103    -0.001213             0\n",
       "3     19930104    -0.000957             0\n",
       "4     19930105    -0.000709             0\n",
       "...        ...          ...           ...\n",
       "7297  20131227     0.062840             0\n",
       "7298  20131228     0.062716             0\n",
       "7299  20131229     0.062040             0\n",
       "7300  20131230     0.061426             0\n",
       "7301  20131231     0.060692             0\n",
       "\n",
       "[7302 rows x 3 columns]"
      ]
     },
     "execution_count": 5,
     "metadata": {},
     "output_type": "execute_result"
    }
   ],
   "source": [
    "asla_key = average_sla.keys()\n",
    "asla_values = list(average_sla.values())\n",
    "asla = {key:val.item() for key, val in zip(asla_key, asla_values)}\n",
    "asla = dict(sorted(asla.items()))\n",
    "\n",
    "asla_df = pd.DataFrame(asla.items(), columns=['date', 'average sla'])\n",
    "\n",
    "asla_df['pred anomaly'] = (asla_df['average sla'] > 0.08) * 12\n",
    "\n",
    "asla_df"
   ]
  },
  {
   "cell_type": "code",
   "execution_count": 6,
   "metadata": {},
   "outputs": [
    {
     "name": "stdout",
     "output_type": "stream",
     "text": [
      "0.7641224665804226\n"
     ]
    },
    {
     "data": {
      "text/plain": [
       "(0.05318646734854446, 0.2991150442477876, 0.22534477228992944)"
      ]
     },
     "execution_count": 6,
     "metadata": {},
     "output_type": "execute_result"
    }
   ],
   "source": [
    "labels = pd.read_csv(\"training_anomalies_merged.csv\")\n",
    "\n",
    "labels[['t', 'anomaly']].groupby(\"t\").sum()\n",
    "labels['datetime'] = [datetime.strptime(time, r\"%Y-%M-%d\") for time in labels['t']]\n",
    "labels['date'] = [datetime.strftime(time, r\"%Y%M%d\") for time in labels['datetime']]\n",
    "\n",
    "full_asla = asla_df.merge(labels[['date', 'anomaly']], how='left', on='date')\n",
    "\n",
    "full_asla = full_asla.fillna(0)\n",
    "\n",
    "correct = 0\n",
    "guesses = 0\n",
    "fp = 0\n",
    "tp = 0\n",
    "fn = 0\n",
    "tn = 0\n",
    "\n",
    "for index, row in full_asla.iterrows():\n",
    "    if row['pred anomaly'] == 0:\n",
    "        fn += row['anomaly']\n",
    "        tn += 12 - row['anomaly']\n",
    "    else:\n",
    "        fp += 12 - row['anomaly']\n",
    "        tp += row['anomaly']\n",
    "    guesses += 12\n",
    "\n",
    "print((tn + tp)/ guesses)\n",
    "\n",
    "precision = tp / (tp + fp)\n",
    "recall = tp / (tp + fn)\n",
    "\n",
    "f1 = 2 * (precision * recall) / (precision + recall)\n",
    "tpr = tp / (tp + fn)\n",
    "fpr = fp / (fp + tn)\n",
    "\n",
    "f1, tpr, fpr"
   ]
  }
 ],
 "metadata": {
  "kernelspec": {
   "display_name": "jpl",
   "language": "python",
   "name": "python3"
  },
  "language_info": {
   "codemirror_mode": {
    "name": "ipython",
    "version": 3
   },
   "file_extension": ".py",
   "mimetype": "text/x-python",
   "name": "python",
   "nbconvert_exporter": "python",
   "pygments_lexer": "ipython3",
   "version": "3.9.18"
  }
 },
 "nbformat": 4,
 "nbformat_minor": 2
}
